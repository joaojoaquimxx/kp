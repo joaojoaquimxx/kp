{
  "cells": [
    {
      "cell_type": "code",
      "source": [
        "!pip install python-docx\n",
        "\n",
        "from google.colab import files\n",
        "uploaded = files.upload()\n",
        "from docx import Document\n",
        "import pandas as pd\n",
        "import re\n",
        "\n",
        "# Lista das palavras-chave\n",
        "chaves = [\"Processo\", \"Autor\", \"Réu\", \"Estimativa de perda\"]\n",
        "\n",
        "# Função para extrair informações\n",
        "def extrair_dados(caminho_docx):\n",
        "    doc = Document(caminho_docx)\n",
        "    dados_extraidos = []\n",
        "    registro = {}\n",
        "\n",
        "    for paragrafo in doc.paragraphs:\n",
        "        texto = paragrafo.text.strip()\n",
        "        for chave in chaves:\n",
        "            padrao = rf\"{chave}:\\s*(.*)\"\n",
        "            resultado = re.search(padrao, texto)\n",
        "            if resultado:\n",
        "                registro[chave] = resultado.group(1)\n",
        "\n",
        "        # Quando todos os campos forem preenchidos, salva e reinicia\n",
        "        if len(registro) == len(chaves):\n",
        "            dados_extraidos.append(registro)\n",
        "            registro = {}\n",
        "\n",
        "    return pd.DataFrame(dados_extraidos)\n",
        "\n",
        "# Caminho do arquivo .docx\n",
        "caminho = \"Carta de C_25138_390396_398845..docx\"  # <- Troque pelo caminho correto\n",
        "\n",
        "# Executa a função\n",
        "df = extrair_dados(caminho)\n",
        "\n",
        "# Exporta para Excel\n",
        "df.to_excel(\"tabela_resultado.xlsx\", index=False)\n",
        "\n",
        "print(\"Arquivo Excel criado com sucesso!\")\n",
        "\n",
        "files.download(\"tabela_resultado.xlsx\")"
      ],
      "metadata": {
        "id": "1A0PR3mZ9gAq"
      },
      "execution_count": null,
      "outputs": []
    }
  ],
  "metadata": {
    "colab": {
      "name": "Welcome To Colab",
      "toc_visible": true,
      "provenance": []
    },
    "kernelspec": {
      "display_name": "Python 3",
      "name": "python3"
    }
  },
  "nbformat": 4,
  "nbformat_minor": 0
}